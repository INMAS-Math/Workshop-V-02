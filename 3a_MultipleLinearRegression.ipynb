{
 "cells": [
  {
   "cell_type": "markdown",
   "metadata": {
    "id": "2BSi6cbYYvxv"
   },
   "source": [
    "<img align=right src=\"https://github.com/INMAS-Math/Workshop-V-02/blob/main/images/inmas.png?raw=1\" width=130x />\n",
    "\n",
    "# Notebook 03a - Multiple Linear Regression\n",
    "\n",
    "Material covered in this notebook:\n",
    "\n",
    "This notebook follows along the notes [here](https://github.com/INMAS-Math/Workshop-V-02/blob/main/notes/3_MultipleLinearRegression.pdf)\n",
    "\n",
    "\n",
    "### Prerequisite\n",
    "Notebook 02\n",
    "\n",
    "------------------------------------"
   ]
  },
  {
   "cell_type": "code",
   "execution_count": null,
   "metadata": {
    "id": "ijTCw3BuO6tq"
   },
   "outputs": [],
   "source": [
    "import numpy as np\n",
    "import statsmodels.api as sm\n",
    "import statsmodels.formula.api as smf\n",
    "import matplotlib.pyplot as plt\n",
    "import seaborn as sbn\n",
    "import scipy.stats as stats\n",
    "import pandas as pd"
   ]
  },
  {
   "cell_type": "code",
   "execution_count": null,
   "metadata": {
    "colab": {
     "base_uri": "https://localhost:8080/",
     "height": 617
    },
    "id": "quODpA8aPfL1",
    "outputId": "208ab784-5405-4c19-88c4-ed351e66d066"
   },
   "outputs": [],
   "source": [
    "data = pd.read_csv(\"https://raw.githubusercontent.com/akmand/datasets/master/openintro/evals.csv\")\n",
    "display(data)"
   ]
  },
  {
   "cell_type": "markdown",
   "metadata": {
    "id": "YJq6hr7vVfld"
   },
   "source": [
    "## Course Evaluation Dataset\n",
    "\n",
    "This data is part of the [OpenIntro resources](https://www.openintro.org/book/statdata/?data=evals).\n",
    "\n",
    "\"The data are gathered from end of semester student evaluations for a large sample of professors from the University of Texas at Austin. In addition, six students rate the professors' physical appearance. The result is a data frame where each row contains a different course and each column has information on either the course or the professor.\"\n",
    "\n",
    "#### Variables\n",
    "- score: Average professor evaluation score: (1) very unsatisfactory - (5) excellent.\n",
    "- rank: Rank of professor: teaching, tenure track, tenured.\n",
    "- ethnicity: Ethnicity of professor: not minority, minority.\n",
    "- gender: Gender of professor: female, male.\n",
    "- language: Language of school where professor received education: English or non-English.\n",
    "- age: Age of professor.\n",
    "- cls_perc_eval: Percent of students in class who completed evaluation.\n",
    "- cls_did_eval: Number of students in class who completed evaluation.\n",
    "- cls_students: Total number of students in class.\n",
    "- cls_level: Class level: lower, upper.\n",
    "- cls_profs: Number of professors teaching sections in course in sample: single, multiple.\n",
    "- cls_credits: Number of credits of class: one credit (lab, PE, etc.), multi credit.\n",
    "- bty_f1lower: Beauty rating of professor from lower level female: (1) lowest - (10) highest.\n",
    "- bty_f1upper: Beauty rating of professor from upper level female: (1) lowest - (10) highest.\n",
    "- bty_f2upper: Beauty rating of professor from second level female: (1) lowest - (10) highest.\n",
    "- bty_m1lower: Beauty rating of professor from lower level male: (1) lowest - (10) highest.\n",
    "- bty_m1upper: Beauty rating of professor from upper level male: (1) lowest - (10) highest.\n",
    "- bty_m2upper: Beauty rating of professor from second upper level male: (1) lowest - (10) highest.\n",
    "- bty_avg: Average beauty rating of professor.\n",
    "- pic_outfit: Outfit of professor in picture: not formal, formal.\n",
    "- pic_color: Color of professor’s picture: color, black & white."
   ]
  },
  {
   "cell_type": "markdown",
   "metadata": {
    "id": "mF9fKaTILiga"
   },
   "source": [
    "### Is there a difference in the mean course evaluation score between female and male instructors?"
   ]
  },
  {
   "cell_type": "code",
   "execution_count": null,
   "metadata": {
    "colab": {
     "base_uri": "https://localhost:8080/",
     "height": 466
    },
    "id": "0b38jV2KWEK-",
    "outputId": "8455b74e-b457-4e4b-91d4-5f09c039331f"
   },
   "outputs": [],
   "source": [
    "sbn.boxplot(data = data,\n",
    "            x=\"gender\",\n",
    "            y=\"score\")\n",
    "#sbn.pairplot(data); ## this will take awhile"
   ]
  },
  {
   "cell_type": "markdown",
   "metadata": {
    "id": "G6rQMr4TiWOj"
   },
   "source": [
    "# Simple Linear Regression"
   ]
  },
  {
   "cell_type": "markdown",
   "metadata": {
    "id": "u1sfvbSFXBcE"
   },
   "source": [
    "### Is there a statistically significant linear relationship between the beauty score and the course evaluation score?"
   ]
  },
  {
   "cell_type": "code",
   "execution_count": null,
   "metadata": {
    "colab": {
     "base_uri": "https://localhost:8080/",
     "height": 450
    },
    "id": "zphEnueJWrhZ",
    "outputId": "0397a79d-751a-423f-f998-923afdd6fec9"
   },
   "outputs": [],
   "source": [
    "sbn.scatterplot(data=data,  x=\"bty_avg\", y=\"score\");"
   ]
  },
  {
   "cell_type": "markdown",
   "metadata": {
    "id": "Vjvs7C_tXN55"
   },
   "source": [
    "Fit a linear regression model and make a conclusion. Don't forget to check the conditions! (Slide 8, page 4 of Simple Linear Regression Notes)\n",
    "\n"
   ]
  },
  {
   "cell_type": "code",
   "execution_count": null,
   "metadata": {
    "id": "XCK_quNyXVzE"
   },
   "outputs": [],
   "source": []
  },
  {
   "cell_type": "markdown",
   "metadata": {
    "id": "1uK3a98OiTXU"
   },
   "source": [
    "# Multiple Regression with Binary Categorical Variable"
   ]
  },
  {
   "cell_type": "markdown",
   "metadata": {
    "id": "xruiv50qXa61"
   },
   "source": [
    "### Is there a difference in the mean course evalution score between female and male instructors after accounting for the beauty score?"
   ]
  },
  {
   "cell_type": "code",
   "execution_count": null,
   "metadata": {
    "colab": {
     "base_uri": "https://localhost:8080/",
     "height": 450
    },
    "id": "ynQi4fn-L9tN",
    "outputId": "9ddd9a3a-9c01-4deb-8cfe-7cb1ef8b72b5"
   },
   "outputs": [],
   "source": [
    "sbn.scatterplot(data=data,  x=\"bty_avg\", y=\"score\", hue = 'gender');"
   ]
  },
  {
   "cell_type": "code",
   "execution_count": null,
   "metadata": {
    "colab": {
     "base_uri": "https://localhost:8080/",
     "height": 178
    },
    "id": "CnzNXI4LXof0",
    "outputId": "ad6519f4-7792-45a7-b8e2-bfc5fc2db0cc"
   },
   "outputs": [],
   "source": [
    "# Specify the model\n",
    "model_formulation = smf.ols(\"score ~ bty_avg + gender\", data = data)\n",
    "\n",
    "# Fit the model\n",
    "results = model_formulation.fit()\n",
    "\n",
    "# View parameters\n",
    "results.params"
   ]
  },
  {
   "cell_type": "markdown",
   "metadata": {
    "id": "bzWnsLhmemio"
   },
   "source": [
    "## Parallel Slopes Model Summary\n",
    "\n",
    "Which coefficient should we do inference on to answer our question of interest?"
   ]
  },
  {
   "cell_type": "code",
   "execution_count": null,
   "metadata": {
    "colab": {
     "base_uri": "https://localhost:8080/"
    },
    "id": "TWALz4sfYJW8",
    "outputId": "5541aa67-8056-49f6-ca4f-dd20a334eba7"
   },
   "outputs": [],
   "source": [
    "model_summary = results.summary()\n",
    "print(model_summary)\n",
    "\n",
    "model_anova = sm.stats.anova_lm(results)\n",
    "print(model_anova)"
   ]
  },
  {
   "cell_type": "markdown",
   "metadata": {
    "id": "GTP3x-95eonC"
   },
   "source": [
    "### Parallel Slopes Predicted Values"
   ]
  },
  {
   "cell_type": "code",
   "execution_count": null,
   "metadata": {
    "colab": {
     "base_uri": "https://localhost:8080/"
    },
    "id": "mlPQemFwYKKA",
    "outputId": "166c0b01-522c-4158-cba6-9aa4fbd776a2"
   },
   "outputs": [],
   "source": [
    "# Retrieve beta estimates from statsmodels\n",
    "beta_hat = results.params\n",
    "\n",
    "# split into groups\n",
    "males = data[data.gender == \"male\"].copy()\n",
    "#males.info()\n",
    "\n",
    "females = data[data.gender == \"female\"].copy()\n",
    "#females.info()\n",
    "\n",
    "# Compute estimates\n",
    "Y_hat_M = beta_hat.iloc[0] + beta_hat.iloc[1] + males.bty_avg*beta_hat.iloc[2]\n",
    "Y_hat_F = beta_hat.iloc[0] + females.bty_avg*beta_hat.iloc[2]"
   ]
  },
  {
   "cell_type": "code",
   "execution_count": null,
   "metadata": {
    "colab": {
     "base_uri": "https://localhost:8080/"
    },
    "id": "md5dcFF1cz4f",
    "outputId": "80ed8f1d-f047-4de8-926c-55369936abe3"
   },
   "outputs": [],
   "source": [
    "males['predVal'] = Y_hat_M\n",
    "females['predVal'] = Y_hat_F"
   ]
  },
  {
   "cell_type": "code",
   "execution_count": null,
   "metadata": {
    "colab": {
     "base_uri": "https://localhost:8080/",
     "height": 467
    },
    "id": "9FBmusezZsp_",
    "outputId": "87c6dcc8-77dd-4b88-e874-db01b7384a10"
   },
   "outputs": [],
   "source": [
    "# Show data points\n",
    "sbn.scatterplot(data=data,  x=\"bty_avg\", y=\"score\", hue = 'gender');\n",
    "\n",
    "# Graph the line of best fit\n",
    "sbn.lineplot(data = males, x=\"bty_avg\", y='predVal', color='blue')\n",
    "sbn.lineplot(data = females, x=\"bty_avg\", y='predVal', color='orange')"
   ]
  },
  {
   "cell_type": "markdown",
   "metadata": {
    "id": "vgjtDd4Aezip"
   },
   "source": [
    "### Parallel Slopes Residuals\n",
    "\n",
    "We still can't forget to check the residuals. What condition does the following code chunk assess? Do you believe the condition is met?"
   ]
  },
  {
   "cell_type": "code",
   "execution_count": null,
   "metadata": {
    "colab": {
     "base_uri": "https://localhost:8080/",
     "height": 467
    },
    "id": "h3nhCR7ae2rb",
    "outputId": "283b8dc1-5ddb-49eb-e002-53df8717d5e9"
   },
   "outputs": [],
   "source": [
    "residuals = results.resid\n",
    "data['resid'] = residuals\n",
    "\n",
    "plot = sbn.scatterplot(data=data,  x=\"bty_avg\", y=\"resid\", hue = 'gender');\n",
    "plot.axhline(y=0, color = 'black')"
   ]
  },
  {
   "cell_type": "markdown",
   "metadata": {
    "id": "LnyNgqHCf37W"
   },
   "source": [
    "What condition does the following code chunk assess? Do you believe the condition is met?"
   ]
  },
  {
   "cell_type": "code",
   "execution_count": null,
   "metadata": {
    "colab": {
     "base_uri": "https://localhost:8080/"
    },
    "id": "QqfGs4uQf4Z_",
    "outputId": "bc2045bc-730f-4165-bc41-62cfe59646cd"
   },
   "outputs": [],
   "source": [
    "results.resid.mean()"
   ]
  },
  {
   "cell_type": "markdown",
   "metadata": {
    "id": "rg-_hcI-f5_G"
   },
   "source": [
    "What condition does the following code chunk assess? Do you believe the condition is met?"
   ]
  },
  {
   "cell_type": "code",
   "execution_count": null,
   "metadata": {
    "colab": {
     "base_uri": "https://localhost:8080/",
     "height": 733
    },
    "id": "4epoAvYbf6cA",
    "outputId": "f645447e-a9f0-43a9-dcc1-b2c8ef38d678"
   },
   "outputs": [],
   "source": [
    "fig, (ax1, ax2) = plt.subplots(1, 2, figsize=(12, 5))\n",
    "# sbn.distplot(residuals, fit=stats.norm, ax=ax1)\n",
    "sbn.histplot(residuals, kde=True, ax=ax1)\n",
    "ax1.set_title('Distribution of Residuals')\n",
    "ax1.set_xlabel('Residual')\n",
    "ax1.set_ylabel('Probability')\n",
    "stats.probplot(residuals.to_numpy(), plot=ax2);"
   ]
  },
  {
   "cell_type": "markdown",
   "metadata": {
    "id": "dUw3WDaZgJVy"
   },
   "source": [
    "### Is the relationship between beauty score and course evaluation score the same for female and male instructors?"
   ]
  },
  {
   "cell_type": "code",
   "execution_count": null,
   "metadata": {
    "colab": {
     "base_uri": "https://localhost:8080/",
     "height": 209
    },
    "id": "MzPyobYagXer",
    "outputId": "5bd0dff3-48b2-40be-a5c9-fd66a60b22b6"
   },
   "outputs": [],
   "source": [
    "# Specify the model\n",
    "model_formulation = smf.ols(\"score ~ bty_avg * gender\", data = data)\n",
    "\n",
    "# Fit the model\n",
    "results = model_formulation.fit()\n",
    "\n",
    "# View parameters\n",
    "results.params"
   ]
  },
  {
   "cell_type": "markdown",
   "metadata": {
    "id": "nHN_JrmRghyG"
   },
   "source": [
    "### Interaction Model Summary\n",
    "\n",
    "Which coefficient should we do inference on to answer our question of interest?"
   ]
  },
  {
   "cell_type": "code",
   "execution_count": null,
   "metadata": {
    "colab": {
     "base_uri": "https://localhost:8080/"
    },
    "id": "Az7vBNq4giCD",
    "outputId": "14f6cc4c-5c1e-401c-c3e4-2d8d047100e7"
   },
   "outputs": [],
   "source": [
    "model_summary = results.summary()\n",
    "print(model_summary)\n",
    "\n",
    "model_anova = sm.stats.anova_lm(results)\n",
    "print(model_anova)"
   ]
  },
  {
   "cell_type": "markdown",
   "metadata": {
    "id": "kBsjbvYegpAx"
   },
   "source": [
    "### Interaction Predicted Values"
   ]
  },
  {
   "cell_type": "code",
   "execution_count": null,
   "metadata": {
    "colab": {
     "base_uri": "https://localhost:8080/"
    },
    "id": "TAbshBtTgq0b",
    "outputId": "323c9a1a-c1ed-4d55-82d8-bfba916ef8aa"
   },
   "outputs": [],
   "source": [
    "# Retrieve beta estimates from statsmodels\n",
    "beta_hat = results.params\n",
    "\n",
    "# Compute estimates\n",
    "Y_hat_M2 = beta_hat.iloc[0] + beta_hat.iloc[1] + males.bty_avg*(beta_hat.iloc[2] + beta_hat.iloc[3])\n",
    "Y_hat_F2 = beta_hat.iloc[0] + females.bty_avg*beta_hat.iloc[2]\n",
    "\n",
    "males['predVal2'] = Y_hat_M2\n",
    "females['predVal2'] = Y_hat_F2"
   ]
  },
  {
   "cell_type": "code",
   "execution_count": null,
   "metadata": {
    "colab": {
     "base_uri": "https://localhost:8080/",
     "height": 467
    },
    "id": "OFACzH_yg6md",
    "outputId": "491a598b-c762-4787-cfa5-f7fa900abd80"
   },
   "outputs": [],
   "source": [
    "# Show data points\n",
    "sbn.scatterplot(data=data,  x=\"bty_avg\", y=\"score\", hue = 'gender');\n",
    "# Graph the line of best fit\n",
    "sbn.lineplot(data = males, x=\"bty_avg\", y='predVal2', color='blue')\n",
    "sbn.lineplot(data = females, x=\"bty_avg\", y='predVal2', color='orange')"
   ]
  },
  {
   "cell_type": "markdown",
   "metadata": {
    "id": "J9TZQp4ag-v5"
   },
   "source": [
    "### Interaction Residuals\n",
    "\n",
    "Are the conditions for inference met?"
   ]
  },
  {
   "cell_type": "code",
   "execution_count": null,
   "metadata": {
    "colab": {
     "base_uri": "https://localhost:8080/",
     "height": 1000
    },
    "id": "3LrbLnpZhE1U",
    "outputId": "2bb482a1-226c-4e10-baa8-f156c9af2954"
   },
   "outputs": [],
   "source": [
    "residuals = results.resid\n",
    "data['resid'] = residuals\n",
    "\n",
    "plot = sbn.scatterplot(data=data,  x=\"bty_avg\", y=\"resid\", hue = 'gender');\n",
    "plot.axhline(y=0, color = 'black')\n",
    "\n",
    "results.resid.mean()\n",
    "\n",
    "fig, (ax1, ax2) = plt.subplots(1, 2, figsize=(12, 5))\n",
    "# sbn.distplot(residuals, fit=stats.norm, ax=ax1)\n",
    "sbn.histplot(residuals, kde=True, ax=ax1)\n",
    "ax1.set_title('Distribution of Residuals')\n",
    "ax1.set_xlabel('Residual')\n",
    "ax1.set_ylabel('Probability')\n",
    "_ = stats.probplot(residuals.to_numpy(), plot=ax2)"
   ]
  },
  {
   "cell_type": "markdown",
   "metadata": {
    "id": "gW49KIXjiJWb"
   },
   "source": [
    "# Multiple Regression with Categorical Variable with more than two levels"
   ]
  },
  {
   "cell_type": "code",
   "execution_count": null,
   "metadata": {
    "colab": {
     "base_uri": "https://localhost:8080/",
     "height": 450
    },
    "id": "RTfkxzOTiZXb",
    "outputId": "0db4e168-9a84-4c12-ff70-4a27137eba97"
   },
   "outputs": [],
   "source": [
    "sbn.scatterplot(data=data,  x=\"bty_avg\", y=\"score\", hue = 'rank');"
   ]
  },
  {
   "cell_type": "markdown",
   "metadata": {
    "id": "vPNZFXoLizO3"
   },
   "source": [
    "What statistical question can we ask using the variables displayed here?"
   ]
  },
  {
   "cell_type": "code",
   "execution_count": null,
   "metadata": {
    "colab": {
     "base_uri": "https://localhost:8080/",
     "height": 272
    },
    "id": "X0BZSL7oi2tN",
    "outputId": "7e26ac94-a520-4601-f976-b6715cb3f2a8"
   },
   "outputs": [],
   "source": [
    "# Specify the model\n",
    "model_formulation = smf.ols(\"score ~ bty_avg * rank\", data = data)\n",
    "\n",
    "# Fit the model\n",
    "results = model_formulation.fit()\n",
    "\n",
    "# View parameters\n",
    "results.params"
   ]
  },
  {
   "cell_type": "markdown",
   "metadata": {
    "id": "0uz8hrE9i8ob"
   },
   "source": [
    "What do you conclude about your question of interest?"
   ]
  },
  {
   "cell_type": "code",
   "execution_count": null,
   "metadata": {
    "colab": {
     "base_uri": "https://localhost:8080/"
    },
    "id": "3Mep7mpwi7rL",
    "outputId": "405fa54d-da35-4945-cb9e-c36d63f4aa7b"
   },
   "outputs": [],
   "source": [
    "model_summary = results.summary()\n",
    "print(model_summary)\n",
    "\n",
    "model_anova = sm.stats.anova_lm(results)\n",
    "print(model_anova)"
   ]
  },
  {
   "cell_type": "code",
   "execution_count": null,
   "metadata": {
    "colab": {
     "base_uri": "https://localhost:8080/"
    },
    "id": "PeqFFgQ8jC3Y",
    "outputId": "98b34099-6b34-452e-affc-2c82025040a7"
   },
   "outputs": [],
   "source": [
    "# Retrieve beta estimates from statsmodels\n",
    "beta_hat = results.params\n",
    "\n",
    "# split into groups\n",
    "tt = data.loc[data['rank'] == 'tenure track'].copy()\n",
    "tn = data.loc[data['rank'] == \"tenured\"].copy()\n",
    "te = data.loc[data['rank'] == \"teaching\"].copy()\n",
    "\n",
    "# Compute estimates\n",
    "Y_hat_TT = beta_hat.iloc[0] + beta_hat.iloc[1] + tt.bty_avg*(beta_hat.iloc[3] + beta_hat.iloc[4])\n",
    "Y_hat_TN = beta_hat.iloc[0] + beta_hat.iloc[2] + tn.bty_avg*(beta_hat.iloc[3] + beta_hat.iloc[5])\n",
    "Y_hat_TE = beta_hat.iloc[0] + te.bty_avg*beta_hat.iloc[3]\n",
    "\n",
    "tt['predVal'] = Y_hat_TT\n",
    "tn['predVal'] = Y_hat_TN\n",
    "te['predVal'] = Y_hat_TE"
   ]
  },
  {
   "cell_type": "code",
   "execution_count": null,
   "metadata": {
    "colab": {
     "base_uri": "https://localhost:8080/",
     "height": 467
    },
    "id": "CWJwU_vzjtOU",
    "outputId": "679cca85-76ab-436d-d0bf-a796ab420920"
   },
   "outputs": [],
   "source": [
    "# Show data points\n",
    "sbn.scatterplot(data=data,  x=\"bty_avg\", y=\"score\", hue = 'rank');\n",
    "# Graph the line of best fit\n",
    "sbn.lineplot(data = tt, x=\"bty_avg\", y='predVal', color='blue')\n",
    "sbn.lineplot(data = tn, x=\"bty_avg\", y='predVal', color='orange')\n",
    "sbn.lineplot(data = te, x=\"bty_avg\", y='predVal', color='green')"
   ]
  },
  {
   "cell_type": "code",
   "execution_count": null,
   "metadata": {
    "colab": {
     "base_uri": "https://localhost:8080/",
     "height": 1000
    },
    "id": "lh3nVq2b27ba",
    "outputId": "a11ebd2f-0c02-4370-c215-590e83743ba3"
   },
   "outputs": [],
   "source": [
    "residuals = results.resid\n",
    "data['resid'] = residuals\n",
    "\n",
    "plot = sbn.scatterplot(data=data,  x=\"bty_avg\", y=\"resid\", hue = 'rank');\n",
    "plot.axhline(y=0, color = 'black')\n",
    "\n",
    "results.resid.mean()\n",
    "\n",
    "fig, (ax1, ax2) = plt.subplots(1, 2, figsize=(12, 5))\n",
    "# sbn.distplot(residuals, fit=stats.norm, ax=ax1)\n",
    "sbn.histplot(residuals, kde=True, ax=ax1)\n",
    "ax1.set_title('Distribution of Residuals')\n",
    "ax1.set_xlabel('Residual')\n",
    "ax1.set_ylabel('Probability')\n",
    "_ = stats.probplot(residuals.to_numpy(), plot=ax2)"
   ]
  },
  {
   "cell_type": "markdown",
   "metadata": {
    "id": "gEypoiOyhzpi"
   },
   "source": [
    "# Multiple Regression with Multiple Quantitative Variables"
   ]
  },
  {
   "cell_type": "markdown",
   "metadata": {
    "id": "OTTMDwyi2dhK"
   },
   "source": [
    "### Is there a statistically significant linear relationship between the beauty score and the course evaluation score after accounting for instructor age?"
   ]
  },
  {
   "cell_type": "code",
   "execution_count": null,
   "metadata": {
    "colab": {
     "base_uri": "https://localhost:8080/",
     "height": 450
    },
    "id": "l83dP9TEOJj-",
    "outputId": "48b4ddcc-ac5e-415a-975a-dc797be39a1b"
   },
   "outputs": [],
   "source": [
    "sbn.scatterplot(data=data,  x=\"bty_avg\", y=\"score\");"
   ]
  },
  {
   "cell_type": "code",
   "execution_count": null,
   "metadata": {
    "colab": {
     "base_uri": "https://localhost:8080/",
     "height": 449
    },
    "id": "69fLGMgwOR9W",
    "outputId": "d05f088e-d8f8-4cf6-8c5a-b1205d246c2e"
   },
   "outputs": [],
   "source": [
    "sbn.scatterplot(data=data,  x=\"age\", y=\"score\");"
   ]
  },
  {
   "cell_type": "code",
   "execution_count": null,
   "metadata": {
    "colab": {
     "base_uri": "https://localhost:8080/",
     "height": 449
    },
    "id": "n0ckrOOaOV5e",
    "outputId": "dbeeb522-2259-436e-abea-173998a32ad1"
   },
   "outputs": [],
   "source": [
    "sbn.scatterplot(data=data,  x=\"age\", y=\"bty_avg\");"
   ]
  },
  {
   "cell_type": "markdown",
   "metadata": {
    "id": "Xx7o9YjV74mu"
   },
   "source": [
    "## Check your understanding\n",
    "\n",
    " Consider all of the models presented so far. What are the different elements of statistical output that can be used as evidence that the model is ``good\"? Which do you find most convincing? Why?"
   ]
  },
  {
   "cell_type": "markdown",
   "metadata": {
    "id": "xPMMGfIEO_w3"
   },
   "source": [
    "### Multicollinearity\n",
    "\n",
    "Do we need to worry about age and bty_avg being redundant (i.e. explain similar variability in score)?\n",
    "\n",
    "We can compute a variance inflation factor:\n",
    "\n",
    "$$VIF = \\frac{1}{1-R^2}$$\n",
    "\n",
    "Where R^2 is the R^2 we have seen before in a regression model of one covariate against another.\n",
    "\n",
    "A rule of thumb is an acceptable VIF is < 5."
   ]
  },
  {
   "cell_type": "code",
   "execution_count": null,
   "metadata": {
    "colab": {
     "base_uri": "https://localhost:8080/"
    },
    "id": "6vPzgIrjPz6J",
    "outputId": "70ab3f55-cf8e-48c0-c15f-6c25a3dbe36c"
   },
   "outputs": [],
   "source": [
    "model_formulation = smf.ols(\"bty_avg ~ age\", data = data)\n",
    "model_summary = results.summary()\n",
    "print(model_summary)\n",
    "\n",
    "vif = 1/(1-0.059)\n",
    "vif"
   ]
  },
  {
   "cell_type": "code",
   "execution_count": null,
   "metadata": {
    "colab": {
     "base_uri": "https://localhost:8080/",
     "height": 178
    },
    "id": "34lt18Wb2mli",
    "outputId": "c02037a2-7730-4a44-db57-02b09686a229"
   },
   "outputs": [],
   "source": [
    "# Specify the model\n",
    "model_formulation = smf.ols(\"score ~ bty_avg + age\", data = data)\n",
    "\n",
    "# Fit the model\n",
    "results = model_formulation.fit()\n",
    "\n",
    "# View parameters\n",
    "results.params"
   ]
  },
  {
   "cell_type": "code",
   "execution_count": null,
   "metadata": {
    "colab": {
     "base_uri": "https://localhost:8080/"
    },
    "id": "wd07UECH2t0g",
    "outputId": "4f064646-58a1-41d2-dbd2-467e2af25666"
   },
   "outputs": [],
   "source": [
    "model_summary = results.summary()\n",
    "print(model_summary)\n",
    "\n",
    "model_anova = sm.stats.anova_lm(results)\n",
    "print(model_anova)"
   ]
  },
  {
   "cell_type": "code",
   "execution_count": null,
   "metadata": {
    "colab": {
     "base_uri": "https://localhost:8080/",
     "height": 1000
    },
    "id": "oXCkTa9z2uf8",
    "outputId": "cc076962-9597-4c6f-de84-2aaa8ce52006"
   },
   "outputs": [],
   "source": [
    "residuals = results.resid\n",
    "\n",
    "data['resid'] = residuals\n",
    "\n",
    "predVal = results.params.iloc[0] + results.params.iloc[1]*data.bty_avg + results.params.iloc[2]*data.age\n",
    "\n",
    "data['predVal'] = predVal\n",
    "\n",
    "plot = sbn.scatterplot(data=data,  x=\"predVal\", y=\"resid\")\n",
    "plot.axhline(y=0, color = 'black')\n",
    "\n",
    "results.resid.mean()\n",
    "\n",
    "fig, (ax1, ax2) = plt.subplots(1, 2, figsize=(12, 5))\n",
    "# sbn.distplot(residuals, fit=stats.norm, ax=ax1)\n",
    "sbn.histplot(residuals, kde=True, ax=ax1)\n",
    "ax1.set_title('Distribution of Residuals')\n",
    "ax1.set_xlabel('Residual')\n",
    "ax1.set_ylabel('Probability')\n",
    "stats.probplot(residuals.to_numpy(), plot=ax2);"
   ]
  }
 ],
 "metadata": {
  "colab": {
   "provenance": []
  },
  "kernelspec": {
   "display_name": "Python 3 (ipykernel)",
   "language": "python",
   "name": "python3"
  },
  "language_info": {
   "codemirror_mode": {
    "name": "ipython",
    "version": 3
   },
   "file_extension": ".py",
   "mimetype": "text/x-python",
   "name": "python",
   "nbconvert_exporter": "python",
   "pygments_lexer": "ipython3",
   "version": "3.12.7"
  }
 },
 "nbformat": 4,
 "nbformat_minor": 4
}
