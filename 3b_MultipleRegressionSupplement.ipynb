{
  "cells": [
    {
      "cell_type": "markdown",
      "metadata": {
        "id": "XKdsvyd-Z5sf"
      },
      "source": [
        "<img align=right src=\"https://github.com/INMAS-Math/Workshop-V-02/blob/main/images/inmas.png?raw=1\" width=130x />\n",
        "\n",
        "# Notebook 03b - Multiple Linear Regression - Supplement\n",
        "\n",
        "Material covered in this notebook:\n",
        "\n",
        "This notebook follows along the notes [here](notes/3_MultipleLinearRegression.pdf)\n",
        "\n",
        "\n",
        "### Prerequisite\n",
        "Notebook 03a\n",
        "\n",
        "------------------------------------"
      ]
    },
    {
      "cell_type": "code",
      "execution_count": 3,
      "metadata": {
        "id": "981Xg40kn6xU"
      },
      "outputs": [],
      "source": [
        "import numpy as np\n",
        "import statsmodels.api as sm\n",
        "import statsmodels.formula.api as smf\n",
        "import matplotlib.pyplot as plt\n",
        "import seaborn as sbn\n",
        "import scipy.stats as stats\n",
        "import pandas as pd"
      ]
    },
    {
      "cell_type": "markdown",
      "metadata": {
        "id": "O-KVZCcoyxl-"
      },
      "source": [
        "# Feature Selection for Regression\n",
        "\n",
        "We introduced multiple regression, which involved estimating the coefficients of a linear relationship between a dependent/response variable $Y$ and independent/predictor/feature variables $X_1,\\dots,X_k$:\n",
        "\n",
        "$$Y=\\beta_0 + \\beta_1X_1 +\\cdots + \\beta_kX_k$$\n",
        "\n",
        "How do we know that we have put the right covariates into the model. How can we tell if our model is \"good\" or even \"best\"?\n",
        "\n",
        "Let's revisit the course evaluation dataset and see if we can do better than our simple linear regression model."
      ]
    },
    {
      "cell_type": "code",
      "execution_count": 4,
      "metadata": {
        "colab": {
          "base_uri": "https://localhost:8080/",
          "height": 721
        },
        "id": "4A5swe-4rBGi",
        "outputId": "9558b829-0428-40e8-ab0a-06d34770fcef"
      },
      "outputs": [
        {
          "output_type": "display_data",
          "data": {
            "text/plain": [
              "     score          rank     ethnicity  gender     language  age  \\\n",
              "0      4.7  tenure track      minority  female      english   36   \n",
              "1      4.1  tenure track      minority  female      english   36   \n",
              "2      3.9  tenure track      minority  female      english   36   \n",
              "3      4.8  tenure track      minority  female      english   36   \n",
              "4      4.6       tenured  not minority    male      english   59   \n",
              "..     ...           ...           ...     ...          ...  ...   \n",
              "458    4.5  tenure track  not minority    male      english   32   \n",
              "459    3.5  tenure track      minority  female  non-english   42   \n",
              "460    4.4  tenure track      minority  female  non-english   42   \n",
              "461    4.4  tenure track      minority  female  non-english   42   \n",
              "462    4.1  tenure track      minority  female  non-english   42   \n",
              "\n",
              "     cls_perc_eval  cls_did_eval  cls_students cls_level  ...   cls_credits  \\\n",
              "0         55.81395            24            43     upper  ...  multi credit   \n",
              "1         68.80000            86           125     upper  ...  multi credit   \n",
              "2         60.80000            76           125     upper  ...  multi credit   \n",
              "3         62.60163            77           123     upper  ...  multi credit   \n",
              "4         85.00000            17            20     upper  ...  multi credit   \n",
              "..             ...           ...           ...       ...  ...           ...   \n",
              "458       60.46511            52            86     upper  ...  multi credit   \n",
              "459       57.14286            48            84     upper  ...  multi credit   \n",
              "460       77.61194            52            67     upper  ...  multi credit   \n",
              "461       81.81818            54            66     upper  ...  multi credit   \n",
              "462       80.00000            28            35     lower  ...    one credit   \n",
              "\n",
              "    bty_f1lower  bty_f1upper  bty_f2upper  bty_m1lower  bty_m1upper  \\\n",
              "0             5            7            6            2            4   \n",
              "1             5            7            6            2            4   \n",
              "2             5            7            6            2            4   \n",
              "3             5            7            6            2            4   \n",
              "4             4            4            2            2            3   \n",
              "..          ...          ...          ...          ...          ...   \n",
              "458           6            6            9            7            8   \n",
              "459           3            8            7            4            6   \n",
              "460           3            8            7            4            6   \n",
              "461           3            8            7            4            6   \n",
              "462           3            8            7            4            6   \n",
              "\n",
              "     bty_m2upper  bty_avg  pic_outfit pic_color  \n",
              "0              6    5.000  not formal     color  \n",
              "1              6    5.000  not formal     color  \n",
              "2              6    5.000  not formal     color  \n",
              "3              6    5.000  not formal     color  \n",
              "4              3    3.000  not formal     color  \n",
              "..           ...      ...         ...       ...  \n",
              "458            5    6.833  not formal     color  \n",
              "459            4    5.333  not formal     color  \n",
              "460            4    5.333  not formal     color  \n",
              "461            4    5.333  not formal     color  \n",
              "462            4    5.333  not formal     color  \n",
              "\n",
              "[463 rows x 21 columns]"
            ],
            "text/html": [
              "\n",
              "  <div id=\"df-8748adf9-2f36-4979-9351-bfef3ac25e7e\" class=\"colab-df-container\">\n",
              "    <div>\n",
              "<style scoped>\n",
              "    .dataframe tbody tr th:only-of-type {\n",
              "        vertical-align: middle;\n",
              "    }\n",
              "\n",
              "    .dataframe tbody tr th {\n",
              "        vertical-align: top;\n",
              "    }\n",
              "\n",
              "    .dataframe thead th {\n",
              "        text-align: right;\n",
              "    }\n",
              "</style>\n",
              "<table border=\"1\" class=\"dataframe\">\n",
              "  <thead>\n",
              "    <tr style=\"text-align: right;\">\n",
              "      <th></th>\n",
              "      <th>score</th>\n",
              "      <th>rank</th>\n",
              "      <th>ethnicity</th>\n",
              "      <th>gender</th>\n",
              "      <th>language</th>\n",
              "      <th>age</th>\n",
              "      <th>cls_perc_eval</th>\n",
              "      <th>cls_did_eval</th>\n",
              "      <th>cls_students</th>\n",
              "      <th>cls_level</th>\n",
              "      <th>...</th>\n",
              "      <th>cls_credits</th>\n",
              "      <th>bty_f1lower</th>\n",
              "      <th>bty_f1upper</th>\n",
              "      <th>bty_f2upper</th>\n",
              "      <th>bty_m1lower</th>\n",
              "      <th>bty_m1upper</th>\n",
              "      <th>bty_m2upper</th>\n",
              "      <th>bty_avg</th>\n",
              "      <th>pic_outfit</th>\n",
              "      <th>pic_color</th>\n",
              "    </tr>\n",
              "  </thead>\n",
              "  <tbody>\n",
              "    <tr>\n",
              "      <th>0</th>\n",
              "      <td>4.7</td>\n",
              "      <td>tenure track</td>\n",
              "      <td>minority</td>\n",
              "      <td>female</td>\n",
              "      <td>english</td>\n",
              "      <td>36</td>\n",
              "      <td>55.81395</td>\n",
              "      <td>24</td>\n",
              "      <td>43</td>\n",
              "      <td>upper</td>\n",
              "      <td>...</td>\n",
              "      <td>multi credit</td>\n",
              "      <td>5</td>\n",
              "      <td>7</td>\n",
              "      <td>6</td>\n",
              "      <td>2</td>\n",
              "      <td>4</td>\n",
              "      <td>6</td>\n",
              "      <td>5.000</td>\n",
              "      <td>not formal</td>\n",
              "      <td>color</td>\n",
              "    </tr>\n",
              "    <tr>\n",
              "      <th>1</th>\n",
              "      <td>4.1</td>\n",
              "      <td>tenure track</td>\n",
              "      <td>minority</td>\n",
              "      <td>female</td>\n",
              "      <td>english</td>\n",
              "      <td>36</td>\n",
              "      <td>68.80000</td>\n",
              "      <td>86</td>\n",
              "      <td>125</td>\n",
              "      <td>upper</td>\n",
              "      <td>...</td>\n",
              "      <td>multi credit</td>\n",
              "      <td>5</td>\n",
              "      <td>7</td>\n",
              "      <td>6</td>\n",
              "      <td>2</td>\n",
              "      <td>4</td>\n",
              "      <td>6</td>\n",
              "      <td>5.000</td>\n",
              "      <td>not formal</td>\n",
              "      <td>color</td>\n",
              "    </tr>\n",
              "    <tr>\n",
              "      <th>2</th>\n",
              "      <td>3.9</td>\n",
              "      <td>tenure track</td>\n",
              "      <td>minority</td>\n",
              "      <td>female</td>\n",
              "      <td>english</td>\n",
              "      <td>36</td>\n",
              "      <td>60.80000</td>\n",
              "      <td>76</td>\n",
              "      <td>125</td>\n",
              "      <td>upper</td>\n",
              "      <td>...</td>\n",
              "      <td>multi credit</td>\n",
              "      <td>5</td>\n",
              "      <td>7</td>\n",
              "      <td>6</td>\n",
              "      <td>2</td>\n",
              "      <td>4</td>\n",
              "      <td>6</td>\n",
              "      <td>5.000</td>\n",
              "      <td>not formal</td>\n",
              "      <td>color</td>\n",
              "    </tr>\n",
              "    <tr>\n",
              "      <th>3</th>\n",
              "      <td>4.8</td>\n",
              "      <td>tenure track</td>\n",
              "      <td>minority</td>\n",
              "      <td>female</td>\n",
              "      <td>english</td>\n",
              "      <td>36</td>\n",
              "      <td>62.60163</td>\n",
              "      <td>77</td>\n",
              "      <td>123</td>\n",
              "      <td>upper</td>\n",
              "      <td>...</td>\n",
              "      <td>multi credit</td>\n",
              "      <td>5</td>\n",
              "      <td>7</td>\n",
              "      <td>6</td>\n",
              "      <td>2</td>\n",
              "      <td>4</td>\n",
              "      <td>6</td>\n",
              "      <td>5.000</td>\n",
              "      <td>not formal</td>\n",
              "      <td>color</td>\n",
              "    </tr>\n",
              "    <tr>\n",
              "      <th>4</th>\n",
              "      <td>4.6</td>\n",
              "      <td>tenured</td>\n",
              "      <td>not minority</td>\n",
              "      <td>male</td>\n",
              "      <td>english</td>\n",
              "      <td>59</td>\n",
              "      <td>85.00000</td>\n",
              "      <td>17</td>\n",
              "      <td>20</td>\n",
              "      <td>upper</td>\n",
              "      <td>...</td>\n",
              "      <td>multi credit</td>\n",
              "      <td>4</td>\n",
              "      <td>4</td>\n",
              "      <td>2</td>\n",
              "      <td>2</td>\n",
              "      <td>3</td>\n",
              "      <td>3</td>\n",
              "      <td>3.000</td>\n",
              "      <td>not formal</td>\n",
              "      <td>color</td>\n",
              "    </tr>\n",
              "    <tr>\n",
              "      <th>...</th>\n",
              "      <td>...</td>\n",
              "      <td>...</td>\n",
              "      <td>...</td>\n",
              "      <td>...</td>\n",
              "      <td>...</td>\n",
              "      <td>...</td>\n",
              "      <td>...</td>\n",
              "      <td>...</td>\n",
              "      <td>...</td>\n",
              "      <td>...</td>\n",
              "      <td>...</td>\n",
              "      <td>...</td>\n",
              "      <td>...</td>\n",
              "      <td>...</td>\n",
              "      <td>...</td>\n",
              "      <td>...</td>\n",
              "      <td>...</td>\n",
              "      <td>...</td>\n",
              "      <td>...</td>\n",
              "      <td>...</td>\n",
              "      <td>...</td>\n",
              "    </tr>\n",
              "    <tr>\n",
              "      <th>458</th>\n",
              "      <td>4.5</td>\n",
              "      <td>tenure track</td>\n",
              "      <td>not minority</td>\n",
              "      <td>male</td>\n",
              "      <td>english</td>\n",
              "      <td>32</td>\n",
              "      <td>60.46511</td>\n",
              "      <td>52</td>\n",
              "      <td>86</td>\n",
              "      <td>upper</td>\n",
              "      <td>...</td>\n",
              "      <td>multi credit</td>\n",
              "      <td>6</td>\n",
              "      <td>6</td>\n",
              "      <td>9</td>\n",
              "      <td>7</td>\n",
              "      <td>8</td>\n",
              "      <td>5</td>\n",
              "      <td>6.833</td>\n",
              "      <td>not formal</td>\n",
              "      <td>color</td>\n",
              "    </tr>\n",
              "    <tr>\n",
              "      <th>459</th>\n",
              "      <td>3.5</td>\n",
              "      <td>tenure track</td>\n",
              "      <td>minority</td>\n",
              "      <td>female</td>\n",
              "      <td>non-english</td>\n",
              "      <td>42</td>\n",
              "      <td>57.14286</td>\n",
              "      <td>48</td>\n",
              "      <td>84</td>\n",
              "      <td>upper</td>\n",
              "      <td>...</td>\n",
              "      <td>multi credit</td>\n",
              "      <td>3</td>\n",
              "      <td>8</td>\n",
              "      <td>7</td>\n",
              "      <td>4</td>\n",
              "      <td>6</td>\n",
              "      <td>4</td>\n",
              "      <td>5.333</td>\n",
              "      <td>not formal</td>\n",
              "      <td>color</td>\n",
              "    </tr>\n",
              "    <tr>\n",
              "      <th>460</th>\n",
              "      <td>4.4</td>\n",
              "      <td>tenure track</td>\n",
              "      <td>minority</td>\n",
              "      <td>female</td>\n",
              "      <td>non-english</td>\n",
              "      <td>42</td>\n",
              "      <td>77.61194</td>\n",
              "      <td>52</td>\n",
              "      <td>67</td>\n",
              "      <td>upper</td>\n",
              "      <td>...</td>\n",
              "      <td>multi credit</td>\n",
              "      <td>3</td>\n",
              "      <td>8</td>\n",
              "      <td>7</td>\n",
              "      <td>4</td>\n",
              "      <td>6</td>\n",
              "      <td>4</td>\n",
              "      <td>5.333</td>\n",
              "      <td>not formal</td>\n",
              "      <td>color</td>\n",
              "    </tr>\n",
              "    <tr>\n",
              "      <th>461</th>\n",
              "      <td>4.4</td>\n",
              "      <td>tenure track</td>\n",
              "      <td>minority</td>\n",
              "      <td>female</td>\n",
              "      <td>non-english</td>\n",
              "      <td>42</td>\n",
              "      <td>81.81818</td>\n",
              "      <td>54</td>\n",
              "      <td>66</td>\n",
              "      <td>upper</td>\n",
              "      <td>...</td>\n",
              "      <td>multi credit</td>\n",
              "      <td>3</td>\n",
              "      <td>8</td>\n",
              "      <td>7</td>\n",
              "      <td>4</td>\n",
              "      <td>6</td>\n",
              "      <td>4</td>\n",
              "      <td>5.333</td>\n",
              "      <td>not formal</td>\n",
              "      <td>color</td>\n",
              "    </tr>\n",
              "    <tr>\n",
              "      <th>462</th>\n",
              "      <td>4.1</td>\n",
              "      <td>tenure track</td>\n",
              "      <td>minority</td>\n",
              "      <td>female</td>\n",
              "      <td>non-english</td>\n",
              "      <td>42</td>\n",
              "      <td>80.00000</td>\n",
              "      <td>28</td>\n",
              "      <td>35</td>\n",
              "      <td>lower</td>\n",
              "      <td>...</td>\n",
              "      <td>one credit</td>\n",
              "      <td>3</td>\n",
              "      <td>8</td>\n",
              "      <td>7</td>\n",
              "      <td>4</td>\n",
              "      <td>6</td>\n",
              "      <td>4</td>\n",
              "      <td>5.333</td>\n",
              "      <td>not formal</td>\n",
              "      <td>color</td>\n",
              "    </tr>\n",
              "  </tbody>\n",
              "</table>\n",
              "<p>463 rows × 21 columns</p>\n",
              "</div>\n",
              "    <div class=\"colab-df-buttons\">\n",
              "\n",
              "  <div class=\"colab-df-container\">\n",
              "    <button class=\"colab-df-convert\" onclick=\"convertToInteractive('df-8748adf9-2f36-4979-9351-bfef3ac25e7e')\"\n",
              "            title=\"Convert this dataframe to an interactive table.\"\n",
              "            style=\"display:none;\">\n",
              "\n",
              "  <svg xmlns=\"http://www.w3.org/2000/svg\" height=\"24px\" viewBox=\"0 -960 960 960\">\n",
              "    <path d=\"M120-120v-720h720v720H120Zm60-500h600v-160H180v160Zm220 220h160v-160H400v160Zm0 220h160v-160H400v160ZM180-400h160v-160H180v160Zm440 0h160v-160H620v160ZM180-180h160v-160H180v160Zm440 0h160v-160H620v160Z\"/>\n",
              "  </svg>\n",
              "    </button>\n",
              "\n",
              "  <style>\n",
              "    .colab-df-container {\n",
              "      display:flex;\n",
              "      gap: 12px;\n",
              "    }\n",
              "\n",
              "    .colab-df-convert {\n",
              "      background-color: #E8F0FE;\n",
              "      border: none;\n",
              "      border-radius: 50%;\n",
              "      cursor: pointer;\n",
              "      display: none;\n",
              "      fill: #1967D2;\n",
              "      height: 32px;\n",
              "      padding: 0 0 0 0;\n",
              "      width: 32px;\n",
              "    }\n",
              "\n",
              "    .colab-df-convert:hover {\n",
              "      background-color: #E2EBFA;\n",
              "      box-shadow: 0px 1px 2px rgba(60, 64, 67, 0.3), 0px 1px 3px 1px rgba(60, 64, 67, 0.15);\n",
              "      fill: #174EA6;\n",
              "    }\n",
              "\n",
              "    .colab-df-buttons div {\n",
              "      margin-bottom: 4px;\n",
              "    }\n",
              "\n",
              "    [theme=dark] .colab-df-convert {\n",
              "      background-color: #3B4455;\n",
              "      fill: #D2E3FC;\n",
              "    }\n",
              "\n",
              "    [theme=dark] .colab-df-convert:hover {\n",
              "      background-color: #434B5C;\n",
              "      box-shadow: 0px 1px 3px 1px rgba(0, 0, 0, 0.15);\n",
              "      filter: drop-shadow(0px 1px 2px rgba(0, 0, 0, 0.3));\n",
              "      fill: #FFFFFF;\n",
              "    }\n",
              "  </style>\n",
              "\n",
              "    <script>\n",
              "      const buttonEl =\n",
              "        document.querySelector('#df-8748adf9-2f36-4979-9351-bfef3ac25e7e button.colab-df-convert');\n",
              "      buttonEl.style.display =\n",
              "        google.colab.kernel.accessAllowed ? 'block' : 'none';\n",
              "\n",
              "      async function convertToInteractive(key) {\n",
              "        const element = document.querySelector('#df-8748adf9-2f36-4979-9351-bfef3ac25e7e');\n",
              "        const dataTable =\n",
              "          await google.colab.kernel.invokeFunction('convertToInteractive',\n",
              "                                                    [key], {});\n",
              "        if (!dataTable) return;\n",
              "\n",
              "        const docLinkHtml = 'Like what you see? Visit the ' +\n",
              "          '<a target=\"_blank\" href=https://colab.research.google.com/notebooks/data_table.ipynb>data table notebook</a>'\n",
              "          + ' to learn more about interactive tables.';\n",
              "        element.innerHTML = '';\n",
              "        dataTable['output_type'] = 'display_data';\n",
              "        await google.colab.output.renderOutput(dataTable, element);\n",
              "        const docLink = document.createElement('div');\n",
              "        docLink.innerHTML = docLinkHtml;\n",
              "        element.appendChild(docLink);\n",
              "      }\n",
              "    </script>\n",
              "  </div>\n",
              "\n",
              "\n",
              "<div id=\"df-ddb392d0-de37-42e5-a2c0-6a32cd1136a4\">\n",
              "  <button class=\"colab-df-quickchart\" onclick=\"quickchart('df-ddb392d0-de37-42e5-a2c0-6a32cd1136a4')\"\n",
              "            title=\"Suggest charts\"\n",
              "            style=\"display:none;\">\n",
              "\n",
              "<svg xmlns=\"http://www.w3.org/2000/svg\" height=\"24px\"viewBox=\"0 0 24 24\"\n",
              "     width=\"24px\">\n",
              "    <g>\n",
              "        <path d=\"M19 3H5c-1.1 0-2 .9-2 2v14c0 1.1.9 2 2 2h14c1.1 0 2-.9 2-2V5c0-1.1-.9-2-2-2zM9 17H7v-7h2v7zm4 0h-2V7h2v10zm4 0h-2v-4h2v4z\"/>\n",
              "    </g>\n",
              "</svg>\n",
              "  </button>\n",
              "\n",
              "<style>\n",
              "  .colab-df-quickchart {\n",
              "      --bg-color: #E8F0FE;\n",
              "      --fill-color: #1967D2;\n",
              "      --hover-bg-color: #E2EBFA;\n",
              "      --hover-fill-color: #174EA6;\n",
              "      --disabled-fill-color: #AAA;\n",
              "      --disabled-bg-color: #DDD;\n",
              "  }\n",
              "\n",
              "  [theme=dark] .colab-df-quickchart {\n",
              "      --bg-color: #3B4455;\n",
              "      --fill-color: #D2E3FC;\n",
              "      --hover-bg-color: #434B5C;\n",
              "      --hover-fill-color: #FFFFFF;\n",
              "      --disabled-bg-color: #3B4455;\n",
              "      --disabled-fill-color: #666;\n",
              "  }\n",
              "\n",
              "  .colab-df-quickchart {\n",
              "    background-color: var(--bg-color);\n",
              "    border: none;\n",
              "    border-radius: 50%;\n",
              "    cursor: pointer;\n",
              "    display: none;\n",
              "    fill: var(--fill-color);\n",
              "    height: 32px;\n",
              "    padding: 0;\n",
              "    width: 32px;\n",
              "  }\n",
              "\n",
              "  .colab-df-quickchart:hover {\n",
              "    background-color: var(--hover-bg-color);\n",
              "    box-shadow: 0 1px 2px rgba(60, 64, 67, 0.3), 0 1px 3px 1px rgba(60, 64, 67, 0.15);\n",
              "    fill: var(--button-hover-fill-color);\n",
              "  }\n",
              "\n",
              "  .colab-df-quickchart-complete:disabled,\n",
              "  .colab-df-quickchart-complete:disabled:hover {\n",
              "    background-color: var(--disabled-bg-color);\n",
              "    fill: var(--disabled-fill-color);\n",
              "    box-shadow: none;\n",
              "  }\n",
              "\n",
              "  .colab-df-spinner {\n",
              "    border: 2px solid var(--fill-color);\n",
              "    border-color: transparent;\n",
              "    border-bottom-color: var(--fill-color);\n",
              "    animation:\n",
              "      spin 1s steps(1) infinite;\n",
              "  }\n",
              "\n",
              "  @keyframes spin {\n",
              "    0% {\n",
              "      border-color: transparent;\n",
              "      border-bottom-color: var(--fill-color);\n",
              "      border-left-color: var(--fill-color);\n",
              "    }\n",
              "    20% {\n",
              "      border-color: transparent;\n",
              "      border-left-color: var(--fill-color);\n",
              "      border-top-color: var(--fill-color);\n",
              "    }\n",
              "    30% {\n",
              "      border-color: transparent;\n",
              "      border-left-color: var(--fill-color);\n",
              "      border-top-color: var(--fill-color);\n",
              "      border-right-color: var(--fill-color);\n",
              "    }\n",
              "    40% {\n",
              "      border-color: transparent;\n",
              "      border-right-color: var(--fill-color);\n",
              "      border-top-color: var(--fill-color);\n",
              "    }\n",
              "    60% {\n",
              "      border-color: transparent;\n",
              "      border-right-color: var(--fill-color);\n",
              "    }\n",
              "    80% {\n",
              "      border-color: transparent;\n",
              "      border-right-color: var(--fill-color);\n",
              "      border-bottom-color: var(--fill-color);\n",
              "    }\n",
              "    90% {\n",
              "      border-color: transparent;\n",
              "      border-bottom-color: var(--fill-color);\n",
              "    }\n",
              "  }\n",
              "</style>\n",
              "\n",
              "  <script>\n",
              "    async function quickchart(key) {\n",
              "      const quickchartButtonEl =\n",
              "        document.querySelector('#' + key + ' button');\n",
              "      quickchartButtonEl.disabled = true;  // To prevent multiple clicks.\n",
              "      quickchartButtonEl.classList.add('colab-df-spinner');\n",
              "      try {\n",
              "        const charts = await google.colab.kernel.invokeFunction(\n",
              "            'suggestCharts', [key], {});\n",
              "      } catch (error) {\n",
              "        console.error('Error during call to suggestCharts:', error);\n",
              "      }\n",
              "      quickchartButtonEl.classList.remove('colab-df-spinner');\n",
              "      quickchartButtonEl.classList.add('colab-df-quickchart-complete');\n",
              "    }\n",
              "    (() => {\n",
              "      let quickchartButtonEl =\n",
              "        document.querySelector('#df-ddb392d0-de37-42e5-a2c0-6a32cd1136a4 button');\n",
              "      quickchartButtonEl.style.display =\n",
              "        google.colab.kernel.accessAllowed ? 'block' : 'none';\n",
              "    })();\n",
              "  </script>\n",
              "</div>\n",
              "\n",
              "  <div id=\"id_eaf6b78d-a961-47a8-bd29-ddc8f854876a\">\n",
              "    <style>\n",
              "      .colab-df-generate {\n",
              "        background-color: #E8F0FE;\n",
              "        border: none;\n",
              "        border-radius: 50%;\n",
              "        cursor: pointer;\n",
              "        display: none;\n",
              "        fill: #1967D2;\n",
              "        height: 32px;\n",
              "        padding: 0 0 0 0;\n",
              "        width: 32px;\n",
              "      }\n",
              "\n",
              "      .colab-df-generate:hover {\n",
              "        background-color: #E2EBFA;\n",
              "        box-shadow: 0px 1px 2px rgba(60, 64, 67, 0.3), 0px 1px 3px 1px rgba(60, 64, 67, 0.15);\n",
              "        fill: #174EA6;\n",
              "      }\n",
              "\n",
              "      [theme=dark] .colab-df-generate {\n",
              "        background-color: #3B4455;\n",
              "        fill: #D2E3FC;\n",
              "      }\n",
              "\n",
              "      [theme=dark] .colab-df-generate:hover {\n",
              "        background-color: #434B5C;\n",
              "        box-shadow: 0px 1px 3px 1px rgba(0, 0, 0, 0.15);\n",
              "        filter: drop-shadow(0px 1px 2px rgba(0, 0, 0, 0.3));\n",
              "        fill: #FFFFFF;\n",
              "      }\n",
              "    </style>\n",
              "    <button class=\"colab-df-generate\" onclick=\"generateWithVariable('data')\"\n",
              "            title=\"Generate code using this dataframe.\"\n",
              "            style=\"display:none;\">\n",
              "\n",
              "  <svg xmlns=\"http://www.w3.org/2000/svg\" height=\"24px\"viewBox=\"0 0 24 24\"\n",
              "       width=\"24px\">\n",
              "    <path d=\"M7,19H8.4L18.45,9,17,7.55,7,17.6ZM5,21V16.75L18.45,3.32a2,2,0,0,1,2.83,0l1.4,1.43a1.91,1.91,0,0,1,.58,1.4,1.91,1.91,0,0,1-.58,1.4L9.25,21ZM18.45,9,17,7.55Zm-12,3A5.31,5.31,0,0,0,4.9,8.1,5.31,5.31,0,0,0,1,6.5,5.31,5.31,0,0,0,4.9,4.9,5.31,5.31,0,0,0,6.5,1,5.31,5.31,0,0,0,8.1,4.9,5.31,5.31,0,0,0,12,6.5,5.46,5.46,0,0,0,6.5,12Z\"/>\n",
              "  </svg>\n",
              "    </button>\n",
              "    <script>\n",
              "      (() => {\n",
              "      const buttonEl =\n",
              "        document.querySelector('#id_eaf6b78d-a961-47a8-bd29-ddc8f854876a button.colab-df-generate');\n",
              "      buttonEl.style.display =\n",
              "        google.colab.kernel.accessAllowed ? 'block' : 'none';\n",
              "\n",
              "      buttonEl.onclick = () => {\n",
              "        google.colab.notebook.generateWithVariable('data');\n",
              "      }\n",
              "      })();\n",
              "    </script>\n",
              "  </div>\n",
              "\n",
              "    </div>\n",
              "  </div>\n"
            ],
            "application/vnd.google.colaboratory.intrinsic+json": {
              "type": "dataframe",
              "variable_name": "data"
            }
          },
          "metadata": {}
        },
        {
          "output_type": "execute_result",
          "data": {
            "text/plain": [
              "Index(['score', 'rank', 'ethnicity', 'gender', 'language', 'age',\n",
              "       'cls_perc_eval', 'cls_did_eval', 'cls_students', 'cls_level',\n",
              "       'cls_profs', 'cls_credits', 'bty_f1lower', 'bty_f1upper', 'bty_f2upper',\n",
              "       'bty_m1lower', 'bty_m1upper', 'bty_m2upper', 'bty_avg', 'pic_outfit',\n",
              "       'pic_color'],\n",
              "      dtype='object')"
            ]
          },
          "metadata": {},
          "execution_count": 4
        }
      ],
      "source": [
        "data = pd.read_csv(\"https://raw.githubusercontent.com/akmand/datasets/master/openintro/evals.csv\")\n",
        "display(data)\n",
        "\n",
        "data.columns"
      ]
    },
    {
      "cell_type": "code",
      "execution_count": 5,
      "metadata": {
        "colab": {
          "base_uri": "https://localhost:8080/",
          "height": 147
        },
        "id": "zXR1d39b7C4F",
        "outputId": "05d2f76b-908b-4d7a-f6ba-6b3805dee77d"
      },
      "outputs": [
        {
          "output_type": "execute_result",
          "data": {
            "text/plain": [
              "Intercept    3.880338\n",
              "bty_avg      0.066637\n",
              "dtype: float64"
            ],
            "text/html": [
              "<div>\n",
              "<style scoped>\n",
              "    .dataframe tbody tr th:only-of-type {\n",
              "        vertical-align: middle;\n",
              "    }\n",
              "\n",
              "    .dataframe tbody tr th {\n",
              "        vertical-align: top;\n",
              "    }\n",
              "\n",
              "    .dataframe thead th {\n",
              "        text-align: right;\n",
              "    }\n",
              "</style>\n",
              "<table border=\"1\" class=\"dataframe\">\n",
              "  <thead>\n",
              "    <tr style=\"text-align: right;\">\n",
              "      <th></th>\n",
              "      <th>0</th>\n",
              "    </tr>\n",
              "  </thead>\n",
              "  <tbody>\n",
              "    <tr>\n",
              "      <th>Intercept</th>\n",
              "      <td>3.880338</td>\n",
              "    </tr>\n",
              "    <tr>\n",
              "      <th>bty_avg</th>\n",
              "      <td>0.066637</td>\n",
              "    </tr>\n",
              "  </tbody>\n",
              "</table>\n",
              "</div><br><label><b>dtype:</b> float64</label>"
            ]
          },
          "metadata": {},
          "execution_count": 5
        }
      ],
      "source": [
        "linear_model_formulation = smf.ols(\"score ~ bty_avg\", data = data)\n",
        "\n",
        "lm_results = linear_model_formulation.fit()\n",
        "lm_results.params"
      ]
    },
    {
      "cell_type": "code",
      "execution_count": 6,
      "metadata": {
        "colab": {
          "base_uri": "https://localhost:8080/",
          "height": 447
        },
        "id": "x1lmGlBK7Fax",
        "outputId": "cc477a23-c06d-4739-fe4a-d09386cea19b"
      },
      "outputs": [
        {
          "output_type": "execute_result",
          "data": {
            "text/plain": [
              "<matplotlib.collections.PathCollection at 0x7bb67cbddc30>"
            ]
          },
          "metadata": {},
          "execution_count": 6
        },
        {
          "output_type": "display_data",
          "data": {
            "text/plain": [
              "<Figure size 640x480 with 1 Axes>"
            ],
            "image/png": "[encoded data removed]"
          },
          "metadata": {}
        }
      ],
      "source": [
        "beta_ests = np.flip(np.array(lm_results.params))\n",
        "x_vals = np.linspace(0,11,1000)\n",
        "y_vals = [np.polyval(beta_ests, i) for i in x_vals]\n",
        "\n",
        "plt.plot(x_vals, y_vals, color= 'blue', linewidth=3, zorder = 2)\n",
        "plt.scatter(data.bty_avg, data.score, color = 'black', zorder = 2)"
      ]
    },
    {
      "cell_type": "code",
      "execution_count": 7,
      "metadata": {
        "colab": {
          "base_uri": "https://localhost:8080/"
        },
        "id": "uF7MHK467Hqa",
        "outputId": "d025e7d0-2cee-4ffe-b14d-c9d4c9927275"
      },
      "outputs": [
        {
          "output_type": "stream",
          "name": "stdout",
          "text": [
            "                            OLS Regression Results                            \n",
            "==============================================================================\n",
            "Dep. Variable:                  score   R-squared:                       0.035\n",
            "Model:                            OLS   Adj. R-squared:                  0.033\n",
            "Method:                 Least Squares   F-statistic:                     16.73\n",
            "Date:                Fri, 01 Nov 2024   Prob (F-statistic):           5.08e-05\n",
            "Time:                        20:27:22   Log-Likelihood:                -366.22\n",
            "No. Observations:                 463   AIC:                             736.4\n",
            "Df Residuals:                     461   BIC:                             744.7\n",
            "Df Model:                           1                                         \n",
            "Covariance Type:            nonrobust                                         \n",
            "==============================================================================\n",
            "                 coef    std err          t      P>|t|      [0.025      0.975]\n",
            "------------------------------------------------------------------------------\n",
            "Intercept      3.8803      0.076     50.961      0.000       3.731       4.030\n",
            "bty_avg        0.0666      0.016      4.090      0.000       0.035       0.099\n",
            "==============================================================================\n",
            "Omnibus:                       33.007   Durbin-Watson:                   1.267\n",
            "Prob(Omnibus):                  0.000   Jarque-Bera (JB):               38.797\n",
            "Skew:                          -0.709   Prob(JB):                     3.76e-09\n",
            "Kurtosis:                       3.007   Cond. No.                         14.9\n",
            "==============================================================================\n",
            "\n",
            "Notes:\n",
            "[1] Standard Errors assume that the covariance matrix of the errors is correctly specified.\n"
          ]
        }
      ],
      "source": [
        "lm_summary = lm_results.summary()\n",
        "print(lm_summary)"
      ]
    },
    {
      "cell_type": "code",
      "execution_count": 8,
      "metadata": {
        "colab": {
          "base_uri": "https://localhost:8080/"
        },
        "id": "6gs-FfxD7Ku0",
        "outputId": "42fad9f0-1537-4888-e769-1e728a719a92"
      },
      "outputs": [
        {
          "output_type": "execute_result",
          "data": {
            "text/plain": [
              "0.03292903378612022"
            ]
          },
          "metadata": {},
          "execution_count": 8
        }
      ],
      "source": [
        "#R^2 adjusted for the linear model\n",
        "lm_results.rsquared_adj"
      ]
    },
    {
      "cell_type": "code",
      "execution_count": 9,
      "metadata": {
        "colab": {
          "base_uri": "https://localhost:8080/"
        },
        "id": "vscoTIwPvc8T",
        "outputId": "6de0885f-573d-4ba2-820d-b5f74d9bd16b"
      },
      "outputs": [
        {
          "output_type": "execute_result",
          "data": {
            "text/plain": [
              "736.44490898058"
            ]
          },
          "metadata": {},
          "execution_count": 9
        }
      ],
      "source": [
        "lm_results.aic"
      ]
    },
    {
      "cell_type": "code",
      "execution_count": 10,
      "metadata": {
        "colab": {
          "base_uri": "https://localhost:8080/"
        },
        "id": "bbXOh08qvdfs",
        "outputId": "e00242c4-1004-418c-b118-ea8517397cd6"
      },
      "outputs": [
        {
          "output_type": "execute_result",
          "data": {
            "text/plain": [
              "744.7203630887524"
            ]
          },
          "metadata": {},
          "execution_count": 10
        }
      ],
      "source": [
        "lm_results.bic"
      ]
    },
    {
      "cell_type": "markdown",
      "metadata": {
        "id": "is8swwVvraOE"
      },
      "source": [
        "We are only explaining about 3% of the variation in course evaluation scores. What else can we add to the model to help us without the model getting too unwieldy?"
      ]
    },
    {
      "cell_type": "markdown",
      "metadata": {
        "id": "xXE5uhHh3o0d"
      },
      "source": [
        "## Model Selection\n",
        "\n",
        "Clearly a balance must be struck between model's complexity and  its capacity to effectively predict new data. The methods by which we strike this balance in practice fall under the category of **model selection**. The model selection task is typically cast as an application of **Occam's razor**, which may be summarized as:\n",
        "\n",
        "   \"Entities should not be multiplied beyond necessity.\"\n",
        "    \n",
        "I.e., in the presence of (equally likely) competing explanations for a phenomenon, the simplest should be preferred.\n",
        "\n",
        "In parametric settings, this is typically carried out by computing, for each model under consideration, an expression of the form\n",
        "\n",
        "$$\\text{log-likelihood} - \\text{complexity penalty}$$\n",
        "\n",
        "Commonly used model selection criteria which fall under this paradigm include the **Akaike information criterion** (AIC) and **Bayesian information criterion** (BIC) which penalize the log-likelihood penalty respectively with\n",
        "\n",
        "$$p_{\\text{AIC}}=k\\\\\n",
        "p_{\\text{BIC}} = \\frac{k}{2}\\log n$$"
      ]
    },
    {
      "cell_type": "markdown",
      "metadata": {
        "id": "dhDPjgj93uW4"
      },
      "source": [
        "## Forward Selection of Features\n",
        "\n",
        "Forward selection involves the following procedure:\n",
        "\n",
        "   1. Start with an empty regression model (i.e., just an intercept, if appropriate).\n",
        "   2. For each feature not yet included, fit the model associated by including only that feature among.\n",
        "   3. Note either the significance of the new feature (in the `.summary()` call) or a desired model selection criterion.\n",
        "   4. If there is at least one feature which is significant or improves the criterion, keep the feature which is most significant or most improves the criterion and return to step 2.\n",
        "   5. If no additional feature is significant or improves the criterion, return the model without any new features."
      ]
    },
    {
      "cell_type": "markdown",
      "metadata": {
        "id": "Sg1cXytD3xgO"
      },
      "source": [
        "We will first use the $\\text{adjusted-}R^2$ as our criterion since there's so few data. The adjusted R^2 accounts for the fact that we add complexity every time we add a new covariate. The regular R^2 will always increase when we add a new covariate. This is not necessarily true of the adjusted version."
      ]
    },
    {
      "cell_type": "markdown",
      "metadata": {
        "id": "Frg9m3YzsAz7"
      },
      "source": [
        "To simplify we will only consider a subset of the covariates.\n",
        "\n",
        "- rank\n",
        "- ethnicity\n",
        "- gender\n",
        "- age\n",
        "- cls_perc_eval\n",
        "- bty_avg\n"
      ]
    },
    {
      "cell_type": "code",
      "execution_count": 11,
      "metadata": {
        "colab": {
          "base_uri": "https://localhost:8080/"
        },
        "id": "1Utbd1fY3xEH",
        "outputId": "d9c0afc6-e268-4951-8769-7ba985fae006"
      },
      "outputs": [
        {
          "output_type": "stream",
          "name": "stdout",
          "text": [
            "Adj Rsquared for rank only is 0.007331676549560018\n",
            "Adj Rsquared for ethnicity only is 0.0035925827913851904\n",
            "Adj Rsquared for gender only is 0.014406319038144377\n",
            "Adj Rsquared for age only is 0.00931149520785346\n",
            "Adj Rsquared for cls_perc_eval only is 0.03219179847301612\n"
          ]
        }
      ],
      "source": [
        "results_rank_only = smf.ols(\"score ~ rank\", data = data).fit()\n",
        "results_ethnicity_only = smf.ols(\"score ~ ethnicity\", data = data).fit()\n",
        "results_gender_only = smf.ols(\"score ~ gender\", data = data).fit()\n",
        "results_age_only = smf.ols(\"score ~ age\", data = data).fit()\n",
        "results_cls_perc_eval_only = smf.ols(\"score ~ cls_perc_eval\", data = data).fit()\n",
        "\n",
        "\n",
        "print(\"Adj Rsquared for rank only is \"+ str(results_rank_only.rsquared_adj))\n",
        "print(\"Adj Rsquared for ethnicity only is \"+ str(results_ethnicity_only.rsquared_adj))\n",
        "print(\"Adj Rsquared for gender only is \"+ str(results_gender_only.rsquared_adj))\n",
        "print(\"Adj Rsquared for age only is \"+ str(results_age_only.rsquared_adj))\n",
        "print(\"Adj Rsquared for cls_perc_eval only is \"+ str(results_cls_perc_eval_only.rsquared_adj))\n"
      ]
    },
    {
      "cell_type": "markdown",
      "metadata": {
        "id": "fO_oEClispJn"
      },
      "source": [
        "It looks like using bty_score is the best first covariate. Now what can we add to it to improve the most?"
      ]
    },
    {
      "cell_type": "code",
      "execution_count": 12,
      "metadata": {
        "colab": {
          "base_uri": "https://localhost:8080/"
        },
        "id": "jQjRc1iT3oOK",
        "outputId": "15de1587-8ab7-4bab-a5ce-b7f8ab6e8526"
      },
      "outputs": [
        {
          "output_type": "stream",
          "name": "stdout",
          "text": [
            "Adj Rsquared for bty_rank only is 0.04028747482602257\n",
            "Adj Rsquared for bty_ethnicity only is 0.037850768149103375\n",
            "Adj Rsquared for bty_gender only is 0.055032019860021264\n",
            "Adj Rsquared for bty_age only is 0.033597442612292805\n",
            "Adj Rsquared for bty_cls_perc_eval only is 0.056034910844585784\n"
          ]
        }
      ],
      "source": [
        "results_bty_rank_only = smf.ols(\"score ~ rank + bty_avg\", data = data).fit()\n",
        "results_bty_ethnicity_only = smf.ols(\"score ~ ethnicity + bty_avg\", data = data).fit()\n",
        "results_bty_gender_only = smf.ols(\"score ~ gender + bty_avg\", data = data).fit()\n",
        "results_bty_age_only = smf.ols(\"score ~ age + bty_avg\", data = data).fit()\n",
        "results_bty_cls_perc_eval_only = smf.ols(\"score ~ cls_perc_eval + bty_avg\", data = data).fit()\n",
        "\n",
        "\n",
        "print(\"Adj Rsquared for bty_rank only is \"+ str(results_bty_rank_only.rsquared_adj))\n",
        "print(\"Adj Rsquared for bty_ethnicity only is \"+ str(results_bty_ethnicity_only.rsquared_adj))\n",
        "print(\"Adj Rsquared for bty_gender only is \"+ str(results_bty_gender_only.rsquared_adj))\n",
        "print(\"Adj Rsquared for bty_age only is \"+ str(results_bty_age_only.rsquared_adj))\n",
        "print(\"Adj Rsquared for bty_cls_perc_eval only is \"+ str(results_bty_cls_perc_eval_only.rsquared_adj))"
      ]
    },
    {
      "cell_type": "markdown",
      "metadata": {
        "id": "faPmE7ivs94r"
      },
      "source": [
        "bty_avg and cls_perc_eval work best together. Now what do we add?"
      ]
    },
    {
      "cell_type": "code",
      "execution_count": 13,
      "metadata": {
        "colab": {
          "base_uri": "https://localhost:8080/"
        },
        "id": "sVXsrs8dtC2C",
        "outputId": "a6f348d5-1899-4917-883b-1df42cb68930"
      },
      "outputs": [
        {
          "output_type": "stream",
          "name": "stdout",
          "text": [
            "Adj Rsquared for bty_cls_rank only is 0.061875790519964946\n",
            "Adj Rsquared for bty_cls_ethnicity only is 0.06538860180790873\n",
            "Adj Rsquared for bty_cls_gender only is 0.08197000196964344\n",
            "Adj Rsquared for bty_cls_age only is 0.05577334737711426\n"
          ]
        }
      ],
      "source": [
        "results_bty_cls_rank_only = smf.ols(\"score ~ rank + bty_avg + cls_perc_eval\", data = data).fit()\n",
        "results_bty_cls_ethnicity_only = smf.ols(\"score ~ ethnicity + bty_avg  + cls_perc_eval\", data = data).fit()\n",
        "results_bty_cls_gender_only = smf.ols(\"score ~ gender + bty_avg  + cls_perc_eval\", data = data).fit()\n",
        "results_bty_cls_age_only = smf.ols(\"score ~ age + bty_avg  + cls_perc_eval\", data = data).fit()\n",
        "\n",
        "\n",
        "print(\"Adj Rsquared for bty_cls_rank only is \"+ str(results_bty_cls_rank_only.rsquared_adj))\n",
        "print(\"Adj Rsquared for bty_cls_ethnicity only is \"+ str(results_bty_cls_ethnicity_only.rsquared_adj))\n",
        "print(\"Adj Rsquared for bty_cls_gender only is \"+ str(results_bty_cls_gender_only.rsquared_adj))\n",
        "print(\"Adj Rsquared for bty_cls_age only is \"+ str(results_bty_cls_age_only.rsquared_adj))\n"
      ]
    },
    {
      "cell_type": "markdown",
      "metadata": {
        "id": "7stVQQLmtT9u"
      },
      "source": [
        "Adding gender helps. Let's keep going."
      ]
    },
    {
      "cell_type": "code",
      "execution_count": 14,
      "metadata": {
        "colab": {
          "base_uri": "https://localhost:8080/"
        },
        "id": "9Pd6jnxFtXSM",
        "outputId": "0a4aa539-ac46-440c-dbe1-281de28cc26e"
      },
      "outputs": [
        {
          "output_type": "stream",
          "name": "stdout",
          "text": [
            "Adj Rsquared for bty_cls_gender_rank only is 0.08928593466798973\n",
            "Adj Rsquared for bty_cls_gender_ethnicity only is 0.08813150427212946\n",
            "Adj Rsquared for bty_cls_gender_age only is 0.0877207606117647\n"
          ]
        }
      ],
      "source": [
        "results_bty_cls_gender_rank_only = smf.ols(\"score ~ rank + bty_avg + cls_perc_eval + gender\", data = data).fit()\n",
        "results_bty_cls_gender_ethnicity_only = smf.ols(\"score ~ ethnicity + bty_avg  + cls_perc_eval + gender\", data = data).fit()\n",
        "results_bty_cls_gender_age_only = smf.ols(\"score ~ age + bty_avg  + cls_perc_eval + gender\", data = data).fit()\n",
        "\n",
        "\n",
        "print(\"Adj Rsquared for bty_cls_gender_rank only is \"+ str(results_bty_cls_gender_rank_only.rsquared_adj))\n",
        "print(\"Adj Rsquared for bty_cls_gender_ethnicity only is \"+ str(results_bty_cls_gender_ethnicity_only.rsquared_adj))\n",
        "print(\"Adj Rsquared for bty_cls_gender_age only is \"+ str(results_bty_cls_gender_age_only.rsquared_adj))"
      ]
    },
    {
      "cell_type": "markdown",
      "metadata": {
        "id": "sdEcZr4etjo7"
      },
      "source": [
        "Rank helps but we start to see diminishing returns."
      ]
    },
    {
      "cell_type": "code",
      "execution_count": 15,
      "metadata": {
        "colab": {
          "base_uri": "https://localhost:8080/"
        },
        "id": "mRZhQW6Htmin",
        "outputId": "015e56a0-cb4f-424f-8470-65ba7a8a6c57"
      },
      "outputs": [
        {
          "output_type": "stream",
          "name": "stdout",
          "text": [
            "Adj Rsquared for bty_cls_gender_rank_ethnicity only is 0.09452214510156798\n",
            "Adj Rsquared for bty_cls_gender_rank_age only is 0.10005867093478182\n"
          ]
        }
      ],
      "source": [
        "results_bty_cls_gender_rank_ethnicity_only = smf.ols(\"score ~ ethnicity + bty_avg  + cls_perc_eval + gender + rank\", data = data).fit()\n",
        "results_bty_cls_gender_rank_age_only = smf.ols(\"score ~ age + bty_avg  + cls_perc_eval + gender + rank\", data = data).fit()\n",
        "\n",
        "\n",
        "print(\"Adj Rsquared for bty_cls_gender_rank_ethnicity only is \"+ str(results_bty_cls_gender_rank_ethnicity_only.rsquared_adj))\n",
        "print(\"Adj Rsquared for bty_cls_gender_rank_age only is \"+ str(results_bty_cls_gender_rank_age_only.rsquared_adj))"
      ]
    },
    {
      "cell_type": "markdown",
      "metadata": {
        "id": "2WtYDNQgtwjr"
      },
      "source": [
        "Age helps. Should we add the last variable?"
      ]
    },
    {
      "cell_type": "code",
      "execution_count": 16,
      "metadata": {
        "colab": {
          "base_uri": "https://localhost:8080/"
        },
        "id": "txF1gtq0tzcJ",
        "outputId": "5ca33617-2749-4031-f8cc-fb46fb452033"
      },
      "outputs": [
        {
          "output_type": "stream",
          "name": "stdout",
          "text": [
            "Adj Rsquared for bty_cls_gender_rank_age_ethnicity only is 0.1048347370402738\n"
          ]
        }
      ],
      "source": [
        "results_bty_cls_gender_rank_age_ethnicity_only = smf.ols(\"score ~ ethnicity + bty_avg  + cls_perc_eval + gender + rank + age\", data = data).fit()\n",
        "\n",
        "\n",
        "print(\"Adj Rsquared for bty_cls_gender_rank_age_ethnicity only is \"+ str(results_bty_cls_gender_rank_age_ethnicity_only.rsquared_adj))\n"
      ]
    },
    {
      "cell_type": "markdown",
      "metadata": {
        "id": "Ddj1TBdet6oX"
      },
      "source": [
        "This marginally helps. So the \"full\" model is not overkill based on this metric. Recall that this isn't really a full model because we only considered a subset of variables."
      ]
    },
    {
      "cell_type": "markdown",
      "metadata": {
        "id": "cp17EAEFqFUY"
      },
      "source": [
        "## Backward Selection of Features"
      ]
    },
    {
      "cell_type": "markdown",
      "metadata": {
        "id": "8dR9vFAhqJG-"
      },
      "source": [
        "If forward selection involves incrementally adding features to our model, then it naturally stands to reason that **backward selection** involves incrementally *removing* features. The procedure is as follows:\n",
        "\n",
        " 1. Start with a full regression model.\n",
        " 2. For each feature included in the model, fit the model which omits that feature.\n",
        " 3. Note the model selection criterion in question.\n",
        " 4. If there is at least one feature which, upon omission, improves the model selection criterion, omit the feature which results in the largest improvement, and return to step 2.\n",
        " 5. Else, if omitting any feature does not improve the model selection criterion, return the current model."
      ]
    },
    {
      "cell_type": "markdown",
      "metadata": {
        "id": "8yl0jROHuJGy"
      },
      "source": [
        "In this case we are going to see if the variables are statistically significant in the presence of the other variables (at the 0.05 level).\n"
      ]
    },
    {
      "cell_type": "code",
      "execution_count": 17,
      "metadata": {
        "colab": {
          "base_uri": "https://localhost:8080/"
        },
        "id": "578SYRqoucbC",
        "outputId": "8aafd057-7513-4494-ecd4-a750d677dba2"
      },
      "outputs": [
        {
          "output_type": "stream",
          "name": "stdout",
          "text": [
            "                            OLS Regression Results                            \n",
            "==============================================================================\n",
            "Dep. Variable:                  score   R-squared:                       0.118\n",
            "Model:                            OLS   Adj. R-squared:                  0.105\n",
            "Method:                 Least Squares   F-statistic:                     8.729\n",
            "Date:                Fri, 01 Nov 2024   Prob (F-statistic):           4.44e-10\n",
            "Time:                        20:27:22   Log-Likelihood:                -345.30\n",
            "No. Observations:                 463   AIC:                             706.6\n",
            "Df Residuals:                     455   BIC:                             739.7\n",
            "Df Model:                           7                                         \n",
            "Covariance Type:            nonrobust                                         \n",
            "=============================================================================================\n",
            "                                coef    std err          t      P>|t|      [0.025      0.975]\n",
            "---------------------------------------------------------------------------------------------\n",
            "Intercept                     3.7762      0.236     15.977      0.000       3.312       4.241\n",
            "ethnicity[T.not minority]     0.1324      0.071      1.853      0.065      -0.008       0.273\n",
            "gender[T.male]                0.2111      0.052      4.092      0.000       0.110       0.312\n",
            "rank[T.tenure track]         -0.1909      0.080     -2.380      0.018      -0.349      -0.033\n",
            "rank[T.tenured]              -0.1348      0.061     -2.193      0.029      -0.256      -0.014\n",
            "bty_avg                       0.0549      0.017      3.302      0.001       0.022       0.088\n",
            "cls_perc_eval                 0.0055      0.001      3.779      0.000       0.003       0.008\n",
            "age                          -0.0077      0.003     -2.501      0.013      -0.014      -0.002\n",
            "==============================================================================\n",
            "Omnibus:                       29.156   Durbin-Watson:                   1.318\n",
            "Prob(Omnibus):                  0.000   Jarque-Bera (JB):               33.230\n",
            "Skew:                          -0.654   Prob(JB):                     6.08e-08\n",
            "Kurtosis:                       3.119   Cond. No.                         910.\n",
            "==============================================================================\n",
            "\n",
            "Notes:\n",
            "[1] Standard Errors assume that the covariance matrix of the errors is correctly specified.\n"
          ]
        }
      ],
      "source": [
        "full_mod = smf.ols(\"score ~ ethnicity + bty_avg  + cls_perc_eval + gender + rank + age\", data = data).fit()\n",
        "full_summary = full_mod.summary()\n",
        "print(full_summary)"
      ]
    },
    {
      "cell_type": "markdown",
      "metadata": {
        "id": "RIXrz0adutPW"
      },
      "source": [
        "The ethnicity binary categorical variable is not significant. We can remove it from the model."
      ]
    },
    {
      "cell_type": "code",
      "execution_count": 18,
      "metadata": {
        "colab": {
          "base_uri": "https://localhost:8080/"
        },
        "id": "gdAbFzWOuydB",
        "outputId": "9cad0b4e-f0a9-4bb1-9830-e44edd89bdc5"
      },
      "outputs": [
        {
          "output_type": "stream",
          "name": "stdout",
          "text": [
            "                            OLS Regression Results                            \n",
            "==============================================================================\n",
            "Dep. Variable:                  score   R-squared:                       0.112\n",
            "Model:                            OLS   Adj. R-squared:                  0.100\n",
            "Method:                 Least Squares   F-statistic:                     9.561\n",
            "Date:                Fri, 01 Nov 2024   Prob (F-statistic):           6.51e-10\n",
            "Time:                        20:27:22   Log-Likelihood:                -347.04\n",
            "No. Observations:                 463   AIC:                             708.1\n",
            "Df Residuals:                     456   BIC:                             737.1\n",
            "Df Model:                           6                                         \n",
            "Covariance Type:            nonrobust                                         \n",
            "========================================================================================\n",
            "                           coef    std err          t      P>|t|      [0.025      0.975]\n",
            "----------------------------------------------------------------------------------------\n",
            "Intercept                3.9261      0.223     17.633      0.000       3.489       4.364\n",
            "gender[T.male]           0.2177      0.052      4.219      0.000       0.116       0.319\n",
            "rank[T.tenure track]    -0.2134      0.079     -2.684      0.008      -0.370      -0.057\n",
            "rank[T.tenured]         -0.1377      0.062     -2.235      0.026      -0.259      -0.017\n",
            "bty_avg                  0.0552      0.017      3.313      0.001       0.022       0.088\n",
            "cls_perc_eval            0.0052      0.001      3.555      0.000       0.002       0.008\n",
            "age                     -0.0079      0.003     -2.544      0.011      -0.014      -0.002\n",
            "==============================================================================\n",
            "Omnibus:                       28.396   Durbin-Watson:                   1.312\n",
            "Prob(Omnibus):                  0.000   Jarque-Bera (JB):               32.433\n",
            "Skew:                          -0.648   Prob(JB):                     9.06e-08\n",
            "Kurtosis:                       3.034   Cond. No.                         852.\n",
            "==============================================================================\n",
            "\n",
            "Notes:\n",
            "[1] Standard Errors assume that the covariance matrix of the errors is correctly specified.\n"
          ]
        }
      ],
      "source": [
        "smaller_mod = smf.ols(\"score ~ bty_avg  + cls_perc_eval + gender + rank + age\", data = data).fit()\n",
        "smaller_summary = smaller_mod.summary()\n",
        "print(smaller_summary)"
      ]
    },
    {
      "cell_type": "markdown",
      "metadata": {
        "id": "5rQHWXS9u31t"
      },
      "source": [
        "Everything else is statistically significant. We can stop with this model."
      ]
    },
    {
      "cell_type": "markdown",
      "metadata": {
        "id": "gKwe_AzpqJrk"
      },
      "source": [
        "## Your turn: Feature Selection for Iris Data\n",
        "\n",
        "Perform forward feature selection on Fisher's *iris* dataset. Use `Petal_Length` as the response variable and the remaining four variables as the predictors. Note that `species` is a categorical factor.\n",
        "\n",
        "Use either BIC or AIC as your criterion. Recall that in Python \"lower BIC/AIC\" equates to \"better model.\" See [here](https://stats.stackexchange.com/questions/577/is-there-any-reason-to-prefer-the-aic-or-bic-over-the-other) for some more details about the two metrics.\n",
        "\n",
        "Then perform backward feature selection using a p-value cutoff of 0.06."
      ]
    },
    {
      "cell_type": "code",
      "execution_count": 19,
      "metadata": {
        "id": "3Zws6nLbqRG6",
        "outputId": "f5c15dd7-5ee1-4f3d-d57d-64647a2dd647",
        "colab": {
          "base_uri": "https://localhost:8080/"
        }
      },
      "outputs": [
        {
          "output_type": "stream",
          "name": "stdout",
          "text": [
            "     Sepal_Length  Sepal_Width  Petal_Length  Petal_Width         Species\n",
            "0             5.1          3.5           1.4          0.2     Iris-setosa\n",
            "1             4.9          3.0           1.4          0.2     Iris-setosa\n",
            "2             4.7          3.2           1.3          0.2     Iris-setosa\n",
            "3             4.6          3.1           1.5          0.2     Iris-setosa\n",
            "4             5.0          3.6           1.4          0.2     Iris-setosa\n",
            "..            ...          ...           ...          ...             ...\n",
            "145           6.7          3.0           5.2          2.3  Iris-virginica\n",
            "146           6.3          2.5           5.0          1.9  Iris-virginica\n",
            "147           6.5          3.0           5.2          2.0  Iris-virginica\n",
            "148           6.2          3.4           5.4          2.3  Iris-virginica\n",
            "149           5.9          3.0           5.1          1.8  Iris-virginica\n",
            "\n",
            "[150 rows x 5 columns]\n"
          ]
        }
      ],
      "source": [
        "csv_url = 'https://archive.ics.uci.edu/ml/machine-learning-databases/iris/iris.data'\n",
        "col_names = ['Sepal_Length','Sepal_Width','Petal_Length','Petal_Width','Species']\n",
        "iris = pd.read_csv(csv_url, names=col_names)\n",
        "\n",
        "print(iris)"
      ]
    },
    {
      "cell_type": "markdown",
      "metadata": {
        "id": "IazZj-7b9_7M"
      },
      "source": [
        "## Check your understanding\n",
        "\n",
        "Consider the two models you built. Which of them would you choose? Convince me using at least 2 pieces of evidence.  "
      ]
    }
  ],
  "metadata": {
    "colab": {
      "provenance": []
    },
    "kernelspec": {
      "display_name": "Python 3 (ipykernel)",
      "language": "python",
      "name": "python3"
    },
    "language_info": {
      "codemirror_mode": {
        "name": "ipython",
        "version": 3
      },
      "file_extension": ".py",
      "mimetype": "text/x-python",
      "name": "python",
      "nbconvert_exporter": "python",
      "pygments_lexer": "ipython3",
      "version": "3.11.7"
    }
  },
  "nbformat": 4,
  "nbformat_minor": 0
}
