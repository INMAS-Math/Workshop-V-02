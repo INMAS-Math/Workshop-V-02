{
 "cells": [
  {
   "cell_type": "markdown",
   "metadata": {
    "id": "9qeC4n15tBM0"
   },
   "source": [
    "<img align=right src=\"https://github.com/INMAS-Math/Workshop-V-02/blob/main/images/inmas.png?raw=1\" width=130x />\n",
    "\n",
    "# Notebook 04b - Logistic Regression - Supplement\n",
    "\n",
    "Material covered in this notebook:\n",
    "\n",
    "This notebook follows along the notes [here](https://github.com/INMAS-Math/Workshop-V-02/blob/main/notes/4_LogisticRegression.pdf)\n",
    "\n",
    "\n",
    "### Prerequisite\n",
    "Notebook 04a\n",
    "\n",
    "------------------------------------"
   ]
  },
  {
   "cell_type": "code",
   "execution_count": null,
   "metadata": {
    "id": "LxE15R2Yxist"
   },
   "outputs": [],
   "source": [
    "import pandas as pd\n",
    "import statsmodels.formula.api as smf\n",
    "import matplotlib.pyplot as plt"
   ]
  },
  {
   "cell_type": "code",
   "execution_count": null,
   "metadata": {
    "colab": {
     "base_uri": "https://localhost:8080/",
     "height": 424
    },
    "id": "vw4C-YIfyBa1",
    "outputId": "c3229e8e-3fad-4889-8a6f-1d4c1ba21dce"
   },
   "outputs": [],
   "source": [
    "# Read in Data\n",
    "uci_adult_df = pd.read_csv(\n",
    "    \"https://archive.ics.uci.edu/ml/machine-learning-databases/adult/adult.data\",\n",
    "     sep = \",\",\n",
    "     header = None,\n",
    "     na_values = ['NA','?']\n",
    "  )\n",
    "\n",
    "# Add all column names\n",
    "uci_adult_df.columns = [\n",
    "    \"Age\", \"WorkClass\", \"fnlwgt\", \"Education\", \"EducationNum\",\n",
    "    \"MaritalStatus\", \"Occupation\", \"Relationship\", \"Race\", \"Gender\",\n",
    "    \"CapitalGain\", \"CapitalLoss\", \"HoursPerWeek\", \"NativeCountry\", \"Income\"\n",
    "]\n",
    "\n",
    "display(uci_adult_df)"
   ]
  },
  {
   "cell_type": "markdown",
   "metadata": {
    "id": "JvkgQjc2xv4k"
   },
   "source": [
    "## Splitting Data\n",
    "\n",
    "The standard practice when modeling is to split a single data set into two:\n",
    "\n",
    "- **Training**: Data that should be used to train the model.\n",
    "- **Testing**: Data that should be used to evaluate the predictions made by the trained model.\n",
    "\n",
    "Usually, the percentage is about an 80/20% split with 80% going to training and 20% going to testing."
   ]
  },
  {
   "cell_type": "code",
   "execution_count": null,
   "metadata": {
    "colab": {
     "base_uri": "https://localhost:8080/"
    },
    "id": "U1foOOjOxwN7",
    "outputId": "5a0c8464-a853-4cb5-d03e-9a83a3459dcd"
   },
   "outputs": [],
   "source": [
    "# Load train_test_split function in the model_selection module for sklearn\n",
    "from sklearn.model_selection import train_test_split\n",
    "\n",
    "# Split the data with 20% in testing and 80% in training.\n",
    "train, test = train_test_split(uci_adult_df, test_size=0.2)\n",
    "\n",
    "train.info()\n",
    "test.info()"
   ]
  },
  {
   "cell_type": "code",
   "execution_count": null,
   "metadata": {
    "colab": {
     "base_uri": "https://localhost:8080/",
     "height": 424
    },
    "id": "n3iXPEIctfi6",
    "outputId": "c7bc21f3-f556-40c0-f96e-f74f94d6f8ed"
   },
   "outputs": [],
   "source": [
    "## logistic regression expects 0s and 1s as the response variable\n",
    "tempVec = pd.get_dummies(train['Income'])\n",
    "tempVec"
   ]
  },
  {
   "cell_type": "code",
   "execution_count": null,
   "metadata": {
    "colab": {
     "base_uri": "https://localhost:8080/",
     "height": 424
    },
    "id": "XZwFWE02tBM6",
    "outputId": "e475aab8-6663-487b-f99c-35fdb3f656dd"
   },
   "outputs": [],
   "source": [
    "train['Income_Binary'] = tempVec[' >50K'].astype(int)\n",
    "\n",
    "tempVec = pd.get_dummies(test['Income'])\n",
    "\n",
    "test['Income_Binary']  = tempVec[' >50K'].astype(int)\n",
    "test"
   ]
  },
  {
   "cell_type": "code",
   "execution_count": null,
   "metadata": {
    "id": "VonZGaYxu2pS"
   },
   "outputs": [],
   "source": []
  },
  {
   "cell_type": "markdown",
   "metadata": {
    "id": "ff-mSOcHzT5z"
   },
   "source": [
    "Let's fit a model on the training data and see how well it does on the testing data."
   ]
  },
  {
   "cell_type": "code",
   "execution_count": null,
   "metadata": {
    "colab": {
     "base_uri": "https://localhost:8080/",
     "height": 387
    },
    "id": "Zw8K41SpzTLJ",
    "outputId": "5a683b28-05b7-45be-f577-3331c73da8c5"
   },
   "outputs": [],
   "source": [
    "\n",
    "# Specify the desired model of y regressing onto x\n",
    "model_formula = smf.logit('Income_Binary ~ Age + Race + Gender + HoursPerWeek', data = train)\n",
    "\n",
    "# Fit the model to the data\n",
    "results = model_formula.fit()\n",
    "\n",
    "results.params"
   ]
  },
  {
   "cell_type": "code",
   "execution_count": null,
   "metadata": {
    "colab": {
     "base_uri": "https://localhost:8080/"
    },
    "id": "TBj7KS5wxeD5",
    "outputId": "4cc10448-8ce2-4f1d-a761-8a2dd159d280"
   },
   "outputs": [],
   "source": [
    "## Test accuracy\n",
    "pred = results.predict(test)\n",
    "predV = results.predict(test)\n",
    "pred[pred > 0.5] = 1\n",
    "pred[pred <= 0.5] = 0\n",
    "test_acc = (test['Income_Binary'] == pred).mean()\n",
    "print('Accuracy of logistic regression classifier on test set: {:.2f}'.format(test_acc))"
   ]
  },
  {
   "cell_type": "markdown",
   "metadata": {
    "id": "1S_SPofLvlRs"
   },
   "source": [
    "Let's break that down to decide in what ways we are wrong and right."
   ]
  },
  {
   "cell_type": "code",
   "execution_count": null,
   "metadata": {
    "colab": {
     "base_uri": "https://localhost:8080/"
    },
    "id": "I3FLt-rfveh-",
    "outputId": "747e5191-e3e1-4712-84e3-9dd493b44351"
   },
   "outputs": [],
   "source": [
    "from sklearn.metrics import confusion_matrix       ## logistic regression report packages\n",
    "from sklearn.metrics import roc_auc_score\n",
    "from sklearn.metrics import roc_curve\n",
    "\n",
    "# Confusion matrix\n",
    "confusion_matrix = confusion_matrix(test['Income_Binary'], pred)\n",
    "print(confusion_matrix)"
   ]
  },
  {
   "cell_type": "markdown",
   "metadata": {
    "id": "cmuykKyCvoXe"
   },
   "source": [
    "The top left value means that the true value is 1 and we correctly predicted a 1 (true positive). The top right value means that the true value is 1 and we incorrectly predicted a 0 (false negative). The bottom left value means that the true value is 0 and we incorrectly predicted a 1 (false positive). The bottom right value means that the true value is 0 and we correctly predicted a 0 (true negative)."
   ]
  },
  {
   "cell_type": "markdown",
   "metadata": {
    "id": "-8UwevDXwk04"
   },
   "source": [
    "All of this has assumed that 0.5 is the appropriate cutoff value to turn predicted probabilities into binary predictions. What if we change this cutoff value? The ROC curve shows how well the model does under different cutoff values. Informally, we want the area under the curve to be large, so we want the curve to be as close to the upper left corner as possible. Read more about how to interpret this type of curve [here](https://en.wikipedia.org/wiki/Receiver_operating_characteristic).\n",
    "\n"
   ]
  },
  {
   "cell_type": "code",
   "execution_count": null,
   "metadata": {
    "colab": {
     "base_uri": "https://localhost:8080/",
     "height": 472
    },
    "id": "QFLOcZrgu67s",
    "outputId": "846311cb-efeb-460d-98f9-f62f6dd5c47b"
   },
   "outputs": [],
   "source": [
    "# ROC curve\n",
    "logit_roc_auc = roc_auc_score(test['Income_Binary'], pred)\n",
    "fpr, tpr, thresholds = roc_curve(test['Income_Binary'], predV)\n",
    "plt.figure()\n",
    "plt.plot(fpr, tpr, label='Logistic Regression (area = %0.2f)' % logit_roc_auc)\n",
    "plt.plot([0, 1], [0, 1],'r--')\n",
    "plt.xlim([0.0, 1.0])\n",
    "plt.ylim([0.0, 1.05])\n",
    "plt.xlabel('False Positive Rate')\n",
    "plt.ylabel('True Positive Rate')\n",
    "plt.title('Receiver operating characteristic')\n",
    "plt.legend(loc=\"lower right\")\n",
    "plt.savefig('Log_ROC');"
   ]
  },
  {
   "cell_type": "markdown",
   "metadata": {
    "id": "9xe8pOorw-29"
   },
   "source": [
    "## Your Turn\n",
    "\n",
    "Fit your own logistic regression model choosing a different binary response. Remember you will need to convert the categorical variable into a 0/1 variable before proceeding. Be sure to evaluate the fit of the model using a test dataset that the model has *not* been trained. on."
   ]
  },
  {
   "cell_type": "code",
   "execution_count": null,
   "metadata": {
    "id": "w04z0e76xMwM"
   },
   "outputs": [],
   "source": []
  }
 ],
 "metadata": {
  "colab": {
   "provenance": []
  },
  "kernelspec": {
   "display_name": "Python 3 (ipykernel)",
   "language": "python",
   "name": "python3"
  },
  "language_info": {
   "codemirror_mode": {
    "name": "ipython",
    "version": 3
   },
   "file_extension": ".py",
   "mimetype": "text/x-python",
   "name": "python",
   "nbconvert_exporter": "python",
   "pygments_lexer": "ipython3",
   "version": "3.12.7"
  }
 },
 "nbformat": 4,
 "nbformat_minor": 4
}
